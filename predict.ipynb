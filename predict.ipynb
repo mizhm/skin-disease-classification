{
 "cells": [
  {
   "cell_type": "code",
   "execution_count": 1,
   "metadata": {},
   "outputs": [],
   "source": [
    "from tensorflow.keras.models import load_model\n",
    "from tensorflow.keras.preprocessing.image import load_img, img_to_array\n",
    "import numpy as np\n",
    "from sklearn.preprocessing import LabelEncoder"
   ]
  },
  {
   "cell_type": "code",
   "execution_count": 2,
   "metadata": {},
   "outputs": [],
   "source": [
    "model_save_path = 'skin_disease_cnn_model.keras'\n",
    "class_names = ['akiec', 'bcc', 'bkl', 'df', 'mel', 'nv', 'vasc']\n",
    "# Tải lại mô hình đã lưu\n",
    "cnn_model = load_model(model_save_path)"
   ]
  },
  {
   "cell_type": "code",
   "execution_count": 5,
   "metadata": {},
   "outputs": [
    {
     "name": "stdout",
     "output_type": "stream",
     "text": [
      "1/1 [==============================] - 0s 13ms/step\n",
      "[[3.92489461e-03 9.79758915e-04 7.05131749e-03 2.11003376e-03\n",
      "  3.16983578e-03 1.71898020e-04 6.44800812e-03 5.48863411e-02\n",
      "  8.86356400e-04 9.91288922e-04 3.13196937e-03 4.86249151e-03\n",
      "  1.66415218e-02 2.67261232e-04 2.78397650e-03 2.77366117e-03\n",
      "  1.09773055e-02 7.12735066e-03 8.67709160e-01 2.58425047e-04\n",
      "  1.10129564e-04 1.79991382e-03 9.37137927e-04]]\n",
      "18\n"
     ]
    }
   ],
   "source": [
    "new_image_path = 'data3\\\\test\\\\bkl\\\\ISIC_0024383.jpg'\n",
    "# Định nghĩa các thông số\n",
    "img_width, img_height = 192, 192\n",
    "\n",
    "\n",
    "def load_and_preprocess_image(img_path, img_width, img_height):\n",
    "    img = load_img(img_path, target_size=(img_width, img_height))\n",
    "    img_array = img_to_array(img)\n",
    "    img_array = np.expand_dims(img_array, axis=0)\n",
    "    return img_array\n",
    "\n",
    "# Tải và xử lý ảnh mới\n",
    "image_array = load_and_preprocess_image(new_image_path, img_width, img_height)\n",
    "predictions = cnn_model.predict(image_array)\n",
    "\n",
    "# In ra kết quả dự đoán\n",
    "predicted_class = np.argmax(predictions[0])\n",
    "print(predictions)\n",
    "print(predicted_class)\n",
    "predicted_label = class_names[predicted_class]\n",
    "print(f'Dự đoán bệnh: {predicted_label}')\n"
   ]
  }
 ],
 "metadata": {
  "kernelspec": {
   "display_name": "py310",
   "language": "python",
   "name": "python3"
  },
  "language_info": {
   "codemirror_mode": {
    "name": "ipython",
    "version": 3
   },
   "file_extension": ".py",
   "mimetype": "text/x-python",
   "name": "python",
   "nbconvert_exporter": "python",
   "pygments_lexer": "ipython3",
   "version": "3.10.14"
  }
 },
 "nbformat": 4,
 "nbformat_minor": 2
}
